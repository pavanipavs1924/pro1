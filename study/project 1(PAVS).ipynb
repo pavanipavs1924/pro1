{
 "cells": [
  {
   "cell_type": "code",
   "execution_count": 3,
   "metadata": {},
   "outputs": [],
   "source": [
    "import onetimepad"
   ]
  },
  {
   "cell_type": "code",
   "execution_count": 19,
   "metadata": {},
   "outputs": [
    {
     "name": "stdout",
     "output_type": "stream",
     "text": [
      "Collecting onetimepad\n",
      "  Downloading onetimepad-1.4.tar.gz (3.3 kB)\n",
      "Building wheels for collected packages: onetimepad\n",
      "  Building wheel for onetimepad (setup.py): started\n",
      "  Building wheel for onetimepad (setup.py): finished with status 'done'\n",
      "  Created wheel for onetimepad: filename=onetimepad-1.4-py3-none-any.whl size=3904 sha256=49f1e939659d695d8067a85596a8628fe06b5d54be5f7e81cd3e130779e88591\n",
      "  Stored in directory: c:\\users\\pavani\\appdata\\local\\pip\\cache\\wheels\\64\\1b\\26\\414127c44690b5adf2378ea1912fd1465cb89695669125909c\n",
      "Successfully built onetimepad\n",
      "Installing collected packages: onetimepad\n",
      "Successfully installed onetimepad-1.4\n"
     ]
    }
   ],
   "source": [
    "!pip install onetimepad"
   ]
  },
  {
   "cell_type": "code",
   "execution_count": 4,
   "metadata": {},
   "outputs": [
    {
     "name": "stdout",
     "output_type": "stream",
     "text": [
      "Hello......!!!!!! 38060f\n",
      "Hello......!!!!!! jga\n"
     ]
    }
   ],
   "source": [
    "from tkinter import *\n",
    "root = Tk()\n",
    "root.title(\"cryptography App\")\n",
    "\n",
    "def encryptMessage():\n",
    "    a=var.get()\n",
    "    ct=onetimepad.encrypt(a,\"Random\")\n",
    "    print(\"Hello......!!!!!!\",ct)\n",
    "    \n",
    "    e2.delete(0,END)\n",
    "    e2.insert(END,ct)\n",
    "    \n",
    "def decryptMessage():\n",
    "    a=var2.get()\n",
    "    ct=onetimepad.decrypt(a,\"Random\")\n",
    "    print(\"Hello......!!!!!!\",ct)\n",
    "    \n",
    "    e4.delete(0,END)\n",
    "    e4.insert(END,ct)\n",
    "    \n",
    "l1 = Label(root,text=\"Plain Text\")\n",
    "l1.grid(row=0,column=0)\n",
    "\n",
    "\n",
    "l3 = Label(root,text=\"Encrypted Text\")\n",
    "l3.grid(row=0,column=2)\n",
    "\n",
    "\n",
    "\n",
    "var2=StringVar()\n",
    "e3=Entry(root,textvariable=var2)\n",
    "e3.grid(row=0,column=3)\n",
    "\n",
    "var=StringVar()\n",
    "e1=Entry(root,textvariable=var)\n",
    "e1.grid(row=0,column=1)\n",
    "\n",
    "\n",
    "\n",
    "l4 = Label(root,text=\"Plain Text\")\n",
    "l4.grid(row=1,column=2)\n",
    "\n",
    "\n",
    "l2 = Label(root,text=\"Encrypted Text\")\n",
    "l2.grid(row=1,column=0)\n",
    "\n",
    "e2=Entry(root)\n",
    "e2.grid(row=1,column=1)\n",
    "\n",
    "e4=Entry(root)\n",
    "e4.grid(row=1,column=3)\n",
    "\n",
    "b1=Button(root,text=\"Encyption\",command=encryptMessage)\n",
    "b1.grid(row=2,column=1)\n",
    "\n",
    "b2=Button(root,text=\"Decryption\",command=decryptMessage)\n",
    "b2.grid(row=2,column=3)\n",
    "\n",
    "\n",
    "\n",
    "root.mainloop()\n"
   ]
  },
  {
   "cell_type": "code",
   "execution_count": null,
   "metadata": {},
   "outputs": [],
   "source": []
  },
  {
   "cell_type": "code",
   "execution_count": null,
   "metadata": {},
   "outputs": [],
   "source": []
  },
  {
   "cell_type": "code",
   "execution_count": null,
   "metadata": {},
   "outputs": [],
   "source": []
  },
  {
   "cell_type": "code",
   "execution_count": null,
   "metadata": {},
   "outputs": [],
   "source": []
  }
 ],
 "metadata": {
  "kernelspec": {
   "display_name": "Python 3",
   "language": "python",
   "name": "python3"
  },
  "language_info": {
   "codemirror_mode": {
    "name": "ipython",
    "version": 3
   },
   "file_extension": ".py",
   "mimetype": "text/x-python",
   "name": "python",
   "nbconvert_exporter": "python",
   "pygments_lexer": "ipython3",
   "version": "3.8.5"
  }
 },
 "nbformat": 4,
 "nbformat_minor": 4
}
